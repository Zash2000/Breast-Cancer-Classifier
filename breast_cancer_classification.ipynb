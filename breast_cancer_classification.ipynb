{
  "cells": [
    {
      "cell_type": "markdown",
      "metadata": {
        "id": "view-in-github",
        "colab_type": "text"
      },
      "source": [
        "<a href=\"https://colab.research.google.com/github/Zash2000/Breast-Cancer-Classifier/blob/main/breast_cancer_classification.ipynb\" target=\"_parent\"><img src=\"https://colab.research.google.com/assets/colab-badge.svg\" alt=\"Open In Colab\"/></a>"
      ]
    },
    {
      "cell_type": "markdown",
      "metadata": {
        "id": "FwBKMPewgdP8"
      },
      "source": [
        "#Breast Cancer Classification"
      ]
    },
    {
      "cell_type": "markdown",
      "metadata": {
        "id": "N1q4vWhTghhR"
      },
      "source": [
        "##Introduction\n",
        "##### In this analysis, a logistic regression model will be built to predict whether a breast tumour is benign or malignant."
      ]
    },
    {
      "cell_type": "markdown",
      "metadata": {
        "id": "84lH0bmEg1VU"
      },
      "source": [
        "###Installing required packages"
      ]
    },
    {
      "cell_type": "code",
      "execution_count": null,
      "metadata": {
        "id": "wE7hsH18g90P"
      },
      "outputs": [],
      "source": [
        "suppressMessages({\n",
        "  install.packages(\"gt\")\n",
        "  install.packages(\"gtExtras\")\n",
        "  install.packages(\"repr\")\n",
        "  library(repr)\n",
        "  library(ggplot2)\n",
        "  library(caret)\n",
        "  library(readr)\n",
        "  library(tidymodels)\n",
        "  library(car)\n",
        "  library(naniar)\n",
        "  library(dplyr)\n",
        "  library(GGally)\n",
        "  library(tidyr)\n",
        "  library(mice)\n",
        "  library(dlookr)\n",
        "  library(lattice)\n",
        "  library(glmnet)\n",
        "  library(pROC)\n",
        "  library(gt)\n",
        "  library(gtExtras)\n",
        "})"
      ]
    },
    {
      "cell_type": "markdown",
      "metadata": {
        "id": "wmll1-ZIhAfz"
      },
      "source": [
        "###Loading and preparing the data"
      ]
    },
    {
      "cell_type": "code",
      "execution_count": null,
      "metadata": {
        "id": "9L43vXEKhPGZ"
      },
      "outputs": [],
      "source": [
        "# Import dataset\n",
        "data <- read_csv(\"Cancer dataset.csv\")\n",
        "\n",
        "# Remove unneccessary columns from dataset (including the participant ID column)\n",
        "data1 <- data[-c(1,2)]\n",
        "\n",
        "# Further clean the data by removing the diagnosis_code column as this is\n",
        "#essentially conveying the same information as the diagnosis column.\n",
        "cancer_data <- data1 %>% select(-diagnosis_code)"
      ]
    },
    {
      "cell_type": "markdown",
      "metadata": {
        "id": "MjOQRoAHhTff"
      },
      "source": [
        "##Exploratory Data Analysis"
      ]
    },
    {
      "cell_type": "code",
      "execution_count": null,
      "metadata": {
        "collapsed": true,
        "id": "G4XmcUP2WYc1"
      },
      "outputs": [],
      "source": [
        "# Summary statistics of the cancer dataset\n",
        "summary(cancer_data)"
      ]
    },
    {
      "cell_type": "code",
      "execution_count": null,
      "metadata": {
        "id": "iUwwxW72WiA_"
      },
      "outputs": [],
      "source": [
        "# To see the number of malignant and benign diagnoses in cancer_data\n",
        "cancer_data %>% count(diagnosis)"
      ]
    },
    {
      "cell_type": "code",
      "execution_count": null,
      "metadata": {
        "id": "Nax7IUOEWknO"
      },
      "outputs": [],
      "source": [
        "# Box plot of Radius Mean by Diagnosis\n",
        "ggplot(cancer_data %>% filter(!is.na(radius_mean)),\n",
        "       aes(x = diagnosis, y = radius_mean, fill = diagnosis)) +\n",
        "  geom_boxplot() +\n",
        "  labs(title = \"Box plot Distribution of Radius Mean by Diagnosis\",\n",
        "       x = \"Diagnosis\",\n",
        "       y = \"Radius Mean\") +\n",
        "  theme_minimal()\n"
      ]
    },
    {
      "cell_type": "code",
      "execution_count": null,
      "metadata": {
        "id": "isQKNEe6Wmlu"
      },
      "outputs": [],
      "source": [
        "# Box plot of Texture Mean by Diagnosis\n",
        "ggplot(cancer_data %>% filter(!is.na(texture_mean)),\n",
        "        aes(x = diagnosis, y = texture_mean, fill = diagnosis)) +\n",
        "  geom_boxplot() +\n",
        "  labs(title = \"Box plot Distribution of Texture Mean by Diagnosis\",\n",
        "       x = \"Diagnosis\",\n",
        "       y = \"Texture Mean\") +\n",
        "  theme_minimal()"
      ]
    },
    {
      "cell_type": "code",
      "execution_count": null,
      "metadata": {
        "id": "umrZm17sWoNX"
      },
      "outputs": [],
      "source": [
        "# Box plot of Area Mean by Diagnosis\n",
        "ggplot(cancer_data %>% filter(!is.na(area_mean)),\n",
        "       aes(x = diagnosis, y = area_mean, fill = diagnosis)) +\n",
        "  geom_boxplot() +\n",
        "  labs(title = \"Box plot Distribution of Area Mean by Diagnosis\",\n",
        "       x = \"Diagnosis\",\n",
        "       y = \"Area Mean\") +\n",
        "  theme_minimal()"
      ]
    },
    {
      "cell_type": "code",
      "execution_count": null,
      "metadata": {
        "id": "GnRK6QsaWqUw"
      },
      "outputs": [],
      "source": [
        "# Box plots of some of the features by Diagnosis\n",
        "cancer_data_long <- cancer_data %>%\n",
        "  pivot_longer(cols = c(radius_mean, texture_mean, perimeter_mean, area_mean),\n",
        "               names_to = \"Feature\", values_to = \"Value\") %>%\n",
        "                 filter(!is.na(Value))\n",
        "\n",
        "ggplot(cancer_data_long, aes(x = diagnosis, y = Value, fill = diagnosis)) +\n",
        "  geom_boxplot() +\n",
        "  facet_wrap(~ Feature, scales = \"free\") +\n",
        "  labs(title = \"Boxplots of Features by Diagnosis\") +\n",
        "  theme_minimal()"
      ]
    },
    {
      "cell_type": "code",
      "execution_count": null,
      "metadata": {
        "id": "ujrQxGUrhcd8"
      },
      "outputs": [],
      "source": [
        "# Scatter Plot of Radius Mean vs Texture Mean\n",
        "ggplot(cancer_data %>% filter(is.finite(radius_mean), is.finite(texture_mean)),\n",
        "       aes(x = radius_mean, y = texture_mean, color = diagnosis)) +\n",
        "  geom_point(alpha = 0.7) +\n",
        "  labs(title = \"Scatter Plot of Radius Mean vs Texture Mean\",\n",
        "       x = \"Radius Mean\",\n",
        "       y = \"Texture Mean\") +\n",
        "  theme_minimal()\n"
      ]
    },
    {
      "cell_type": "code",
      "execution_count": null,
      "metadata": {
        "id": "cZYhikL_WsJI"
      },
      "outputs": [],
      "source": [
        "# Correlation matrix\n",
        "numeric_variables <- cancer_data[, sapply(cancer_data, is.numeric)]\n",
        "correlation_matrix <- cor(numeric_variables, use = \"complete.obs\")\n",
        "heatmap(correlation_matrix, main = \"Correlation Matrix - Numeric Variables\")"
      ]
    },
    {
      "cell_type": "markdown",
      "metadata": {
        "id": "j5m6S6gzhg0b"
      },
      "source": [
        "## Data-preprocessing: Handling of missing data"
      ]
    },
    {
      "cell_type": "code",
      "execution_count": null,
      "metadata": {
        "id": "Z3y6LO1TZCeZ"
      },
      "outputs": [],
      "source": [
        "# How much missing data is there?\n",
        "sum(is.na(cancer_data))"
      ]
    },
    {
      "cell_type": "code",
      "execution_count": null,
      "metadata": {
        "id": "aYHgISiBZHCr"
      },
      "outputs": [],
      "source": [
        "# Number of missing values in every column:\n",
        "colSums(is.na(cancer_data))"
      ]
    },
    {
      "cell_type": "code",
      "execution_count": null,
      "metadata": {
        "id": "qri_kt5adQpN"
      },
      "outputs": [],
      "source": [
        "#-----Understanding the missing data----\n",
        "\n",
        "# Pareto chart demonstrating the proportion of missing data and potential handling\n",
        "# based on the amount of data that is missing\n",
        "options(repr.plot.width = 15, repr.plot.height = 10)\n",
        "plot_na_pareto(cancer_data)"
      ]
    },
    {
      "cell_type": "code",
      "execution_count": null,
      "metadata": {
        "id": "kqfOcTZFieHF"
      },
      "outputs": [],
      "source": [
        "# ----- Handling the missing data -----\n",
        "\n",
        "# Total values in dataset: 569 * 30 (excluding diagnosis variables) = 17,070\n",
        "# With only a small percentage of the total data missing (~5%), complete case analysis\n",
        "# could be justified, however, multiple imputation is a method that retains\n",
        "# mean and variance of the data.\n",
        "\n",
        "# To handle the missing data, I'm using the\n",
        "# Multivarite Imputation by Chained Equations method\n",
        "\n",
        "imputed_data <- mice(cancer_data, m = 5, maxit = 50, method = \"pmm\", seed = 500, printFlag = FALSE)\n",
        "completeData <- complete(imputed_data,2)\n",
        "fit <- with(data = imputed_data, exp = lm(radius_mean ~ texture_mean + perimeter_mean))\n",
        "combine <- pool(fit)\n",
        "summary(combine)\n",
        "\n",
        "# Extraction of the Imputed Dataset\n",
        "completed_data <- complete(imputed_data, 2)\n",
        "\n",
        "# The original dataset is preserved and the imputed dataset is stored in a new variable\n",
        "imputed_cancer_data <- completed_data"
      ]
    },
    {
      "cell_type": "code",
      "execution_count": null,
      "metadata": {
        "id": "Jlt6q2nJlqbd"
      },
      "outputs": [],
      "source": [
        "# Summary stats of the imputed cancer dataset\n",
        "summary(imputed_cancer_data)\n",
        "\n",
        "# To check whether all values have been imputed\n",
        "colSums(is.na(imputed_cancer_data))"
      ]
    },
    {
      "cell_type": "markdown",
      "metadata": {
        "id": "nqdU7QzyihUv"
      },
      "source": [
        "####Validation of Imputation"
      ]
    },
    {
      "cell_type": "code",
      "execution_count": null,
      "metadata": {
        "id": "q1mzGOBmipKy"
      },
      "outputs": [],
      "source": [
        "# Validation of imputation\n",
        "\n",
        "# Plots of the original data VS imputed data\n",
        "\n",
        "# Radius_mean plot\n",
        "ggplot() +\n",
        "  geom_density(data = cancer_data, aes(x = radius_mean), alpha = 0.5) +\n",
        "  geom_density(data = imputed_cancer_data, aes(x = radius_mean), alpha = 0.5) +\n",
        "  labs(title = \"Plot of the original data VS imputed data for radius_mean\",\n",
        "       x = \"radius_mean\",\n",
        "       y = \"Density\") +\n",
        "  theme_minimal() +\n",
        "  scale_fill_manual(name = \"Data Type\", values = c(\"red\", \"blue\"), labels = c(\"Original\", \"Imputed\"))\n",
        "\n",
        "# Radius_se plot\n",
        "ggplot() +\n",
        "  geom_density(data = cancer_data, aes(x = radius_se), alpha = 0.5) +\n",
        "  geom_density(data = imputed_cancer_data, aes(x = radius_se), alpha = 0.5) +\n",
        "  labs(title = \"Plot of the original data VS imputed data for radius_se\",\n",
        "       x = \"radius_se\",\n",
        "       y = \"Density\") +\n",
        "  theme_minimal() +\n",
        "  scale_fill_manual(name = \"Data Type\", values = c(\"red\", \"blue\"), labels = c(\"Original\", \"Imputed\"))\n",
        "\n",
        "# Radius_worst plot\n",
        "ggplot() +\n",
        "  geom_density(data = cancer_data, aes(x = radius_worst), alpha = 0.5) +\n",
        "  geom_density(data = imputed_cancer_data, aes(x = radius_worst), alpha = 0.5) +\n",
        "  labs(title = \"Plot of the original data VS imputed data for radius_worst\",\n",
        "       x = \"radius_worst\",\n",
        "       y = \"Density\") +\n",
        "  theme_minimal() +\n",
        "  scale_fill_manual(name = \"Data Type\", values = c(\"red\", \"blue\"), labels = c(\"Original\", \"Imputed\"))\n",
        "\n",
        "# Texture_mean plot\n",
        "ggplot() +\n",
        "  geom_density(data = cancer_data, aes(x = texture_mean), alpha = 0.5) +\n",
        "  geom_density(data = imputed_cancer_data, aes(x = texture_mean), alpha = 0.5) +\n",
        "  labs(title = \"Plot of the original data VS imputed data for texture_mean\",\n",
        "       x = \"texture_mean\",\n",
        "       y = \"Density\") +\n",
        "  theme_minimal() +\n",
        "  scale_fill_manual(name = \"Data Type\", values = c(\"red\", \"blue\"), labels = c(\"Original\", \"Imputed\"))\n",
        "\n",
        "\n",
        "# Texture_se plot\n",
        "ggplot() +\n",
        "  geom_density(data = cancer_data, aes(x = texture_se), alpha = 0.5) +\n",
        "  geom_density(data = imputed_cancer_data, aes(x = texture_se), alpha = 0.5) +\n",
        "  labs(title = \"Comparison of Original vs Imputed Data for texture_se\",\n",
        "       x = \"texture_se\",\n",
        "       y = \"Density\") +\n",
        "  theme_minimal() +\n",
        "  scale_fill_manual(name = \"Data Type\", values = c(\"red\", \"blue\"), labels = c(\"Original\", \"Imputed\"))\n",
        "\n",
        "# Texture_worst plot\n",
        "ggplot() +\n",
        "  geom_density(data = cancer_data, aes(x = texture_worst), alpha = 0.5) +\n",
        "  geom_density(data = imputed_cancer_data, aes(x = texture_worst), alpha = 0.5) +\n",
        "  labs(title = \"Plot of the original data VS imputed data for texture_worst\",\n",
        "       x = \"texture_worst\",\n",
        "       y = \"Density\") +\n",
        "  theme_minimal() +\n",
        "  scale_fill_manual(name = \"Data Type\", values = c(\"red\", \"blue\"), labels = c(\"Original\", \"Imputed\"))"
      ]
    },
    {
      "cell_type": "markdown",
      "metadata": {
        "id": "YjZAatblitTo"
      },
      "source": [
        "##Further Data-preprocessing: Splitting of data"
      ]
    },
    {
      "cell_type": "code",
      "execution_count": null,
      "metadata": {
        "id": "00Fc6ArFiwKQ"
      },
      "outputs": [],
      "source": [
        "# ------ Splitting the data into training and test sets: ------\n",
        "\n",
        "# Set the seed to make partition reproducible\n",
        "set.seed(123)\n",
        "\n",
        "# Stratified split: 70% training, 30% test\n",
        "# Stratified sampling based on the diagnosis column so the class distribution\n",
        "# is maintained in both sets.\n",
        "split <- createDataPartition(imputed_cancer_data$diagnosis, p = 0.7, list = FALSE)\n",
        "train_set <- imputed_cancer_data[split, ]\n",
        "test_set <- imputed_cancer_data[-split, ]\n",
        "\n",
        "sum(is.na(train_set))\n",
        "\n",
        "# Class distribution check\n",
        "table(train_set$diagnosis)  # Training set class distribution\n",
        "table(test_set$diagnosis)   # Test set class distribution"
      ]
    },
    {
      "cell_type": "markdown",
      "metadata": {
        "id": "k_ZJUk_hiznB"
      },
      "source": [
        "##Logistic Regression Model"
      ]
    },
    {
      "cell_type": "code",
      "execution_count": null,
      "metadata": {
        "id": "akTWPHAMi4xy"
      },
      "outputs": [],
      "source": [
        "# ------- Logistic regression model -------\n",
        "\n",
        "# Changing the 'diagnosis' feature to binary, where 1 = Malignant and 0 = Benign\n",
        "train_set$diagnosis <- ifelse(train_set$diagnosis == \"M\", 1, 0)\n",
        "\n",
        "# Check the conversion has taken place\n",
        "train_set$diagnosis <- as.numeric(train_set$diagnosis)\n",
        "table(train_set$diagnosis)\n",
        "\n",
        "# Fit a logistic regression model\n",
        "cancer_logistic_model <- glm(diagnosis ~., data = train_set, family=\"binomial\",\n",
        "                       control = glm.control(maxit = 100))\n",
        "summary(cancer_logistic_model)"
      ]
    },
    {
      "cell_type": "code",
      "execution_count": null,
      "metadata": {
        "id": "o0bn7WAqmsGw"
      },
      "outputs": [],
      "source": [
        "# Check for multicollinearity using the Variance Inflation Factor (VIF):\n",
        "library(car)\n",
        "vif(glm(diagnosis ~ ., data = train_set, family = \"binomial\",\n",
        "        control = glm.control(maxit = 100)))"
      ]
    },
    {
      "cell_type": "markdown",
      "metadata": {
        "id": "NFK-qvtFi7si"
      },
      "source": [
        "####Feature Selection"
      ]
    },
    {
      "cell_type": "code",
      "execution_count": null,
      "metadata": {
        "id": "dY0ksIjQjAym"
      },
      "outputs": [],
      "source": [
        "# --------- Feature selection using LASSO -------\n",
        "\n",
        "# Fitting a regular logistic regression model intitally to obtain the 'x' and 'y'\n",
        "logistic_model <- glm(diagnosis ~ ., data=train_set, family=binomial,\n",
        "                      control = glm.control(maxit = 100))\n",
        "summary(logistic_model)\n",
        "\n",
        "\n",
        "X <- model.matrix(logistic_model)\n",
        "y <- as.numeric(logistic_model$y)\n",
        "unique(y)\n",
        "dim(X)\n",
        "length(y)\n",
        "head(y)\n",
        "X <- as.matrix(X)\n",
        "\n",
        "any(is.na(X))  # Check if X has missing values\n",
        "any(is.na(y))\n",
        "\n",
        "# Lasso model\n",
        "lasso_cancer1 <- glmnet(X, y, alpha=1, family='binomial')\n",
        "plot(lasso_cancer1)\n",
        "\n",
        "# The best value of lambda using cv.glmnet\n",
        "lasso_cancer2 <- cv.glmnet(X, y, alpha=1, family='binomial')\n",
        "plot(lasso_cancer2)\n",
        "\n",
        "# K-fold cross-validation to find the value of lambda with minimal error\n",
        "coef(lasso_cancer2, s='lambda.min')\n",
        "\n",
        "# Print the value of lambda.min\n",
        "lasso_cancer2$lambda.min\n",
        "\n",
        "# Computed predictions to find the accuracy of the model.\n",
        "predictions <- predict(lasso_cancer2, s='lambda.min', newx=X, type='response')\n",
        "acc <- as.numeric(predictions>=0.5) == y\n",
        "mean(acc)\n",
        "\n",
        "table(test_set$diagnosis)"
      ]
    },
    {
      "cell_type": "markdown",
      "metadata": {
        "id": "gpJalj7BjHER"
      },
      "source": [
        "####Model Validation"
      ]
    },
    {
      "cell_type": "code",
      "execution_count": null,
      "metadata": {
        "id": "hknsVIG3jJWV"
      },
      "outputs": [],
      "source": [
        "# -------- Validate the model on the test_data ------\n",
        "\n",
        "# Check the diagnosis column values\n",
        "unique(test_set$diagnosis)\n",
        "\n",
        "# Change the diagnosis column to binary\n",
        "test_set$diagnosis <- ifelse(test_set$diagnosis == \"M\", 1, 0)\n",
        "\n",
        "# Fit model to obtain X_test and y_test\n",
        "lasso_model <- glm(diagnosis ~ ., data=test_set, family=binomial,\n",
        "                   control = glm.control(maxit = 100))\n",
        "summary(lasso_model)\n",
        "\n",
        "X_test <- model.matrix(lasso_model)\n",
        "y_test <- as.numeric(test_set$diagnosis)\n",
        "\n",
        "# Computed predictions to find the accuracy of the lasso_cancer2 model\n",
        "# (using the minimum value of lambda).\n",
        "predictions <- predict(lasso_cancer2, s='lambda.min', newx=X_test, type='response')\n",
        "acc <- as.numeric(predictions>=0.5) == y_test\n",
        "mean(acc)"
      ]
    },
    {
      "cell_type": "markdown",
      "metadata": {
        "id": "t-LAvHFdjPa3"
      },
      "source": [
        "####Model performance"
      ]
    },
    {
      "cell_type": "code",
      "execution_count": null,
      "metadata": {
        "id": "ey4z1iNTgVVq"
      },
      "outputs": [],
      "source": [
        "# ------ Model performance ------\n",
        "# Change predictions to binary\n",
        "predictions_binary <- ifelse(predictions >= 0.5, 1, 0)\n",
        "\n",
        "# Change the predictions and actual values to factors\n",
        "predictions_binary <- factor(predictions_binary, levels = c(0, 1))\n",
        "y_test <- factor(y_test, levels = c(0, 1))\n",
        "\n",
        "# Confusion Matrix\n",
        "confusion_matrix <- confusionMatrix(data = predictions_binary, reference = y_test, positive = \"1\")\n",
        "print(confusion_matrix)\n",
        "\n",
        "# Simpler Confusion Matrix\n",
        "conf_matrix <- table(Predicted = predictions_binary, Actual = y_test)\n",
        "print(conf_matrix)\n",
        "\n",
        "# Use confusion matrix values to assign true and false positives and negatives\n",
        "true_positives <- conf_matrix[2, 2]\n",
        "false_positives <- conf_matrix[2, 1]\n",
        "true_negatives <- conf_matrix[1, 1]\n",
        "false_negatives <- conf_matrix[1, 2]\n",
        "\n",
        "# Precision, Recall, and F1-Score\n",
        "precision <- true_positives / (true_positives + false_positives)\n",
        "recall <- true_positives / (true_positives + false_negatives)\n",
        "f1_score <- 2 * (precision * recall) / (precision + recall)\n",
        "\n",
        "cat(\"Precision:\", precision, \"\\n\")\n",
        "cat(\"Recall:\", recall, \"\\n\")\n",
        "cat(\"F1-Score:\", f1_score, \"\\n\")\n",
        "\n",
        "# Compute the ROC curve\n",
        "roc_curve <- roc(y_test, as.numeric(predictions))\n",
        "auc_ci <- ci.auc(roc_curve, conf.level = 0.95)\n",
        "\n",
        "# ROC curve - plot\n",
        "plot(roc_curve, col = \"blue\", main = \"ROC Curve\")\n",
        "auc_value <- auc(roc_curve)\n",
        "cat(\"AUC:\", auc_value, \"\\n\")\n",
        "cat(\"95% CI for AUC:\", auc_ci[1], \"-\", auc_ci[3], \"\\n\")"
      ]
    },
    {
      "cell_type": "markdown",
      "metadata": {
        "id": "AF1z8qKxj6c7"
      },
      "source": [
        "####Calibration Curve"
      ]
    },
    {
      "cell_type": "code",
      "execution_count": null,
      "metadata": {
        "id": "VKfVDDKaj9-y"
      },
      "outputs": [],
      "source": [
        "# Plot calibration curve\n",
        "\n",
        "# Change X_test to a matrix\n",
        "X_test <- as.matrix(X_test)\n",
        "\n",
        "# Predictions from Lasso model\n",
        "predictions <- predict(lasso_cancer2, s = \"lambda.min\", newx = X_test, type = \"response\")\n",
        "\n",
        "# Checking to see if yTest is numeric and binary\n",
        "yTest <- as.numeric(as.factor(test_set$diagnosis)) - 1\n",
        "\n",
        "# val.prob() is used to check calibration performance\n",
        "calPerf <- val.prob(p = predictions, y = yTest)\n",
        "\n",
        "# Metrics of the Calibration plot\n",
        "print(calPerf)"
      ]
    }
  ],
  "metadata": {
    "colab": {
      "provenance": [],
      "include_colab_link": true
    },
    "kernelspec": {
      "display_name": "R",
      "name": "ir"
    },
    "language_info": {
      "name": "R"
    }
  },
  "nbformat": 4,
  "nbformat_minor": 0
}